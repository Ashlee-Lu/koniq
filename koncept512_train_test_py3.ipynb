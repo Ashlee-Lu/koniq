{
  "nbformat": 4,
  "nbformat_minor": 0,
  "metadata": {
    "kernelspec": {
      "name": "python3",
      "display_name": "Python 3"
    },
    "colab": {
      "name": "KonCept512",
      "provenance": [],
      "collapsed_sections": [],
      "toc_visible": true,
      "machine_shape": "hm",
      "include_colab_link": true
    },
    "accelerator": "GPU"
  },
  "cells": [
    {
      "cell_type": "markdown",
      "metadata": {
        "id": "view-in-github",
        "colab_type": "text"
      },
      "source": [
        "<a href=\"https://colab.research.google.com/github/subpic/koniq/blob/master/koncept512_train_test_py3.ipynb\" target=\"_parent\"><img src=\"https://colab.research.google.com/assets/colab-badge.svg\" alt=\"Open In Colab\"/></a>"
      ]
    },
    {
      "cell_type": "markdown",
      "metadata": {
        "id": "XDdbdkexFk0t",
        "colab_type": "text"
      },
      "source": [
        "### Install libraries"
      ]
    },
    {
      "cell_type": "code",
      "metadata": {
        "id": "sVxpvhKMLG2W",
        "colab_type": "code",
        "colab": {}
      },
      "source": [
        "%%capture\n",
        "\n",
        "# Setup paths\n",
        "drive_root = '/content/drive/My Drive/research/data/' # persistent storage for dataset images\n",
        "data_root = '/content/koniq/'                         # library install path\n",
        "\n",
        "!git clone https://github.com/subpic/ku.git\n",
        "!git clone https://github.com/subpic/koniq.git\n",
        "!pip install munch\n",
        "\n",
        "%tensorflow_version 1.x\n",
        "from ku import model_helper as mh\n",
        "from ku import applications as apps\n",
        "from ku import tensor_ops as ops\n",
        "from ku import generic as gen\n",
        "from ku import image_utils as iu\n",
        "\n",
        "import pandas as pd, numpy as np, os\n",
        "from matplotlib import pyplot as plt\n",
        "from munch import Munch\n",
        "\n",
        "from google.colab import drive\n",
        "drive.mount('/content/drive')"
      ],
      "execution_count": 0,
      "outputs": []
    },
    {
      "cell_type": "markdown",
      "metadata": {
        "colab_type": "text",
        "id": "fQntwgm6FBn0"
      },
      "source": [
        "### Setup KonIQ-10k dataset images\n",
        "Download images resized to 512x384 pixels (originals are 1024x768)"
      ]
    },
    {
      "cell_type": "code",
      "metadata": {
        "id": "KuZXHjjyXK2M",
        "colab_type": "code",
        "colab": {}
      },
      "source": [
        "%%capture\n",
        "drive_image_path = \"/content/drive/My Drive/research/data/koniq/koniq10k_512x384.zip\"\n",
        "if not os.path.exists(drive_image_path):\n",
        "  !wget -O $drive_image_path \"http://datasets.vqa.mmsp-kn.de/archives/koniq10k_512x384.zip\"\n",
        "\n",
        "!mkdir /content/koniq/images/\n",
        "!cp  \"/content/koniq/images/\"\n",
        "%cd /content/koniq/images/\n",
        "!unzip -o koniq10k_512x384.zip\n",
        "%cd /content/"
      ],
      "execution_count": 0,
      "outputs": []
    },
    {
      "cell_type": "markdown",
      "metadata": {
        "id": "xwy8XM54K_J8",
        "colab_type": "text"
      },
      "source": [
        "### Define the KonCept512 model"
      ]
    },
    {
      "cell_type": "code",
      "metadata": {
        "id": "N2k21MsYK_KF",
        "colab_type": "code",
        "colab": {}
      },
      "source": [
        "ids = pd.read_csv(data_root + 'metadata/koniq10k_distributions_sets.csv')\n",
        "\n",
        "from keras.models import Model\n",
        "\n",
        "# Build scoring model\n",
        "base_model, preprocess_fn = apps.get_model_imagenet(apps.InceptionResNetV2)\n",
        "head = apps.fc_layers(base_model.output, name='fc', \n",
        "                      fc_sizes      = [2048, 1024, 256, 1], \n",
        "                      dropout_rates = [0.25, 0.25, 0.5, 0], \n",
        "                      batch_norm    = 2)    \n",
        "\n",
        "model = Model(inputs = base_model.input, outputs = head)\n",
        "\n",
        "# Parameters of the generator\n",
        "pre = lambda im: preprocess_fn(\n",
        "         iu.ImageAugmenter(im, remap=False).fliplr().result)\n",
        "gen_params = dict(batch_size  = 16,\n",
        "                  data_path   = data_root+'images/512x384/',\n",
        "                  process_fn  = pre, \n",
        "                  input_shape = (384,512,3),\n",
        "                  inputs      = ['image_name'],\n",
        "                  outputs     = ['MOS'])\n",
        "\n",
        "# Wrapper for the model, helps with training and testing\n",
        "helper = mh.ModelHelper(model, 'KonCept512', ids, \n",
        "                     loss='MSE', metrics=[\"MAE\", ops.plcc_tf],\n",
        "                     monitor_metric = 'val_loss', \n",
        "                     monitor_mode   = 'min', \n",
        "                     multiproc   = True, workers = 5,\n",
        "                     logs_root   = drive_root + 'logs/koniq',\n",
        "                     models_root = drive_root + 'models/koniq',\n",
        "                     gen_params  = gen_params)"
      ],
      "execution_count": 0,
      "outputs": []
    },
    {
      "cell_type": "markdown",
      "metadata": {
        "colab_type": "text",
        "id": "tP_AKK539udA"
      },
      "source": [
        "### Train it"
      ]
    },
    {
      "cell_type": "code",
      "metadata": {
        "id": "zDburTNbH2qT",
        "colab_type": "code",
        "colab": {}
      },
      "source": [
        "# do validation in memory\n",
        "valid_gen = helper.make_generator(ids[ids.set=='validation'], \n",
        "                                  batch_size = len(ids[ids.set=='validation']))\n",
        "valid_data = valid_gen[0]\n",
        "\n",
        "helper.train(valid_gen=valid_data, lr=1e-4, epochs=40)\n",
        "helper.load_model()\n",
        "helper.train(valid_gen=valid_data, lr=1e-4/5, epochs=20)"
      ],
      "execution_count": 0,
      "outputs": []
    },
    {
      "cell_type": "markdown",
      "metadata": {
        "colab_type": "text",
        "id": "Yckb5mXFB7H4"
      },
      "source": [
        "### Load trained model"
      ]
    },
    {
      "cell_type": "code",
      "metadata": {
        "id": "sut6co1bDoGG",
        "colab_type": "code",
        "colab": {}
      },
      "source": [
        "# just download the already trained model\n",
        "!mkdir koniq/models\n",
        "!wget -O \"koniq/models/koncep512-model.h5\" \"http://datasets.vqa.mmsp-kn.de/archives/koncep512-trained-model.h5\"\n",
        "helper.model.load_weights(\"koniq/models/koncep512-model.h5\")"
      ],
      "execution_count": 0,
      "outputs": []
    },
    {
      "cell_type": "markdown",
      "metadata": {
        "colab_type": "text",
        "id": "tBi5Th28CBE7"
      },
      "source": [
        "### Test model on the default test set"
      ]
    },
    {
      "cell_type": "code",
      "metadata": {
        "id": "7nFdL8VDB0g4",
        "colab_type": "code",
        "colab": {
          "base_uri": "https://localhost:8080/",
          "height": 296
        },
        "outputId": "e811fac4-6daa-4a80-e19f-f67b96f3ecd9"
      },
      "source": [
        "y_pred = helper.predict()\n",
        "y_true = ids[ids.set=='test'].MOS.values\n",
        "apps.rating_metrics(y_true, y_pred);"
      ],
      "execution_count": 35,
      "outputs": [
        {
          "output_type": "stream",
          "text": [
            "SRCC: 0.918 | PLCC: 0.934 | MAE: 9.137 | RMSE: 10.226\n"
          ],
          "name": "stdout"
        },
        {
          "output_type": "display_data",
          "data": {
            "image/png": "[encoded data removed]",
            "text/plain": [
              "<Figure size 432x288 with 1 Axes>"
            ]
          },
          "metadata": {
            "tags": [],
            "needs_background": "light"
          }
        }
      ]
    },
    {
      "cell_type": "markdown",
      "metadata": {
        "id": "M_K2cXQIK_KL",
        "colab_type": "text"
      },
      "source": [
        "### Predict on a custom image (example)"
      ]
    },
    {
      "cell_type": "code",
      "metadata": {
        "id": "5wqSLmcvK_KN",
        "colab_type": "code",
        "colab": {
          "base_uri": "https://localhost:8080/",
          "height": 35
        },
        "outputId": "27214f00-60ac-42f4-9de0-62a8b372720f"
      },
      "source": [
        "# Load an image\n",
        "image_path = data_root + 'images/512x384/' + ids.image_name.values[0]\n",
        "im = preprocess_fn(iu.read_image(image_path))\n",
        "\n",
        "# Create a batch, of 1 image\n",
        "batch = np.expand_dims(im, 0)\n",
        "\n",
        "# Predict quality score\n",
        "y_pred = model.predict(batch).squeeze()\n",
        "print(f'Predicted score: {y_pred:.{2}f}, ground-truth score: {ids.MOS.values[0]:.{2}f}')"
      ],
      "execution_count": 34,
      "outputs": [
        {
          "output_type": "stream",
          "text": [
            "Predicted score: 68.33, ground-truth score: 77.38\n"
          ],
          "name": "stdout"
        }
      ]
    }
  ]
}