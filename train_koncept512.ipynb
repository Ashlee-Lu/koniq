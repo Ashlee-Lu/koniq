{
 "cells": [
  {
   "cell_type": "code",
   "execution_count": null,
   "metadata": {},
   "outputs": [],
   "source": [
    "import kutils\n",
    "from kutils import model_helper as mh\n",
    "from kutils import applications as apps\n",
    "from kutils import image_utils as iu\n",
    "from kutils import tensor_ops as ops\n",
    "import pandas as pd"
   ]
  },
  {
   "cell_type": "markdown",
   "metadata": {},
   "source": [
    "### KonCept512 model\n",
    "3 fully-connected layers + dropouts on top of the Global Average Pooled features from InceptionResNet-v2"
   ]
  },
  {
   "cell_type": "code",
   "execution_count": null,
   "metadata": {},
   "outputs": [],
   "source": [
    "aux_root = '/mnt/home/research/data/'\n",
    "data_root = '/mnt/home/research/koniq/'\n",
    "ids = pd.read_csv(data_root + 'metadata/koniq10k_distributions_sets.csv')\n",
    "\n",
    "from keras.models import Model\n",
    "\n",
    "# build scoring model\n",
    "base_model, preprocess_fn = apps.get_model_imagenet(apps.InceptionResNetV2)\n",
    "head = apps.fc_layers(base_model.output, name='fc', \n",
    "                      fc_sizes      = [2048, 1024, 256, 1], \n",
    "                      dropout_rates = [0.25, 0.25, 0.5, 0])    \n",
    "\n",
    "model = Model(inputs = base_model.input, outputs = head)\n",
    "print('[done]')"
   ]
  },
  {
   "cell_type": "code",
   "execution_count": null,
   "metadata": {},
   "outputs": [],
   "source": [
    "# parameter of the generator\n",
    "pre = lambda im: preprocess_fn(iu.ImageAugmenter(im, remap=False).fliplr().result)\n",
    "gen_params = dict(batch_size  = 32, \n",
    "                  data_path   = data_root+'images/512x384/',\n",
    "                  process_fn  = pre, \n",
    "                  input_shape = (384,512,3),\n",
    "                  outputs     = ('MOS',))\n",
    "\n",
    "# Wrapper for the model, helps with training and testing\n",
    "helper = mh.ModelHelper(model, 'KonCept512', ids, \n",
    "                     loss='MSE', metrics=[\"MAE\", ops.plcc_tf],\n",
    "                     monitor_metric = 'val_loss', \n",
    "                     monitor_mode   = 'min', \n",
    "                     multiproc   = True, workers = 5,\n",
    "                     logs_root   = aux_root + 'logs/koniq',\n",
    "                     models_root = aux_root + 'models/koniq',\n",
    "                     gen_params  = gen_params)\n",
    "\n",
    "print '[done]'"
   ]
  },
  {
   "cell_type": "markdown",
   "metadata": {},
   "source": [
    "#### Train model"
   ]
  },
  {
   "cell_type": "code",
   "execution_count": null,
   "metadata": {},
   "outputs": [
    {
     "name": "stdout",
     "output_type": "stream",
     "text": [
      "161/221 [====================>.........] - ETA: 1:17 - loss: 146.3941 - mean_absolute_error: 9.5622 - plcc_tf: 0.7169"
     ]
    }
   ],
   "source": [
    "helper.train(lr=1e-4, epochs=100)"
   ]
  },
  {
   "cell_type": "markdown",
   "metadata": {},
   "source": [
    "#### Test"
   ]
  },
  {
   "cell_type": "code",
   "execution_count": null,
   "metadata": {},
   "outputs": [],
   "source": [
    "test_rating_model(helper);"
   ]
  }
 ],
 "metadata": {
  "kernelspec": {
   "display_name": "Python 2",
   "language": "python",
   "name": "python2"
  },
  "language_info": {
   "codemirror_mode": {
    "name": "ipython",
    "version": 2
   },
   "file_extension": ".py",
   "mimetype": "text/x-python",
   "name": "python",
   "nbconvert_exporter": "python",
   "pygments_lexer": "ipython2",
   "version": "2.7.12"
  }
 },
 "nbformat": 4,
 "nbformat_minor": 2
}
